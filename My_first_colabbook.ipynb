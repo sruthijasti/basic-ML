{
  "nbformat": 4,
  "nbformat_minor": 0,
  "metadata": {
    "colab": {
      "name": "My first colabbook",
      "provenance": [],
      "authorship_tag": "ABX9TyMm9tgQaPYThDqwS8LSyFVH",
      "include_colab_link": true
    },
    "kernelspec": {
      "name": "python3",
      "display_name": "Python 3"
    },
    "language_info": {
      "name": "python"
    }
  },
  "cells": [
    {
      "cell_type": "markdown",
      "metadata": {
        "id": "view-in-github",
        "colab_type": "text"
      },
      "source": [
        "<a href=\"https://colab.research.google.com/github/sruthijasti/basic-ML/blob/main/My_first_colabbook.ipynb\" target=\"_parent\"><img src=\"https://colab.research.google.com/assets/colab-badge.svg\" alt=\"Open In Colab\"/></a>"
      ]
    },
    {
      "cell_type": "code",
      "metadata": {
        "colab": {
          "base_uri": "https://localhost:8080/"
        },
        "id": "QPSvA9h2_mHQ",
        "outputId": "3597e4ed-af79-4d48-d4bb-bc0a7a9a5fd6"
      },
      "source": [
        "print(\"Hello google\")"
      ],
      "execution_count": 1,
      "outputs": [
        {
          "output_type": "stream",
          "text": [
            "Hello google\n"
          ],
          "name": "stdout"
        }
      ]
    },
    {
      "cell_type": "code",
      "metadata": {
        "colab": {
          "base_uri": "https://localhost:8080/"
        },
        "id": "wm_4z2g-_1iX",
        "outputId": "e8438e94-b02b-4144-8b70-eb96fa7502d5"
      },
      "source": [
        "print(\"welcome github\")"
      ],
      "execution_count": 2,
      "outputs": [
        {
          "output_type": "stream",
          "text": [
            "welcome github\n"
          ],
          "name": "stdout"
        }
      ]
    },
    {
      "cell_type": "code",
      "metadata": {
        "colab": {
          "base_uri": "https://localhost:8080/"
        },
        "id": "Zx5kuN8V_8dv",
        "outputId": "d2c5d27f-968b-4eea-babc-59b80ccb3b74"
      },
      "source": [
        "print(\"Jasti sruthi\")"
      ],
      "execution_count": 3,
      "outputs": [
        {
          "output_type": "stream",
          "text": [
            "Jasti sruthi\n"
          ],
          "name": "stdout"
        }
      ]
    }
  ]
}